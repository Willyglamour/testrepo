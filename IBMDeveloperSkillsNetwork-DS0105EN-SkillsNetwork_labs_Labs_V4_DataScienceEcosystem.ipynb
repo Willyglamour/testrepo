{
  "metadata": {
    "language_info": {
      "codemirror_mode": {
        "name": "python",
        "version": 3
      },
      "file_extension": ".py",
      "mimetype": "text/x-python",
      "name": "python",
      "nbconvert_exporter": "python",
      "pygments_lexer": "ipython3",
      "version": "3.8"
    },
    "kernelspec": {
      "name": "python",
      "display_name": "Python (Pyodide)",
      "language": "python"
    }
  },
  "nbformat_minor": 4,
  "nbformat": 4,
  "cells": [
    {
      "cell_type": "markdown",
      "source": "# Data Science Tools and Ecosystem",
      "metadata": {}
    },
    {
      "cell_type": "markdown",
      "source": "In this Jupyter Notebook, Data Science Tools and Ecoststem are summarized",
      "metadata": {}
    },
    {
      "cell_type": "markdown",
      "source": "## Objectives\n\nIn this exercise, our main objectives are:\n\n1. **Learn Markdown Syntax**: Gain familiarity with Markdown syntax, a lightweight markup language commonly used for formatting text in various contexts, including Jupyter Notebooks.\n\n2. **Practice Creating Markdown Cells**: Practice creating Markdown cells in a Jupyter Notebook to format and structure content effectively.\n\n3. **List Key Objectives**: Specifically, in this Markdown cell, our objective is to list the exercise's main objectives clearly and concisely.\n\nBy completing this exercise, you'll be better equipped to format and document your work in Jupyter Notebooks using Markdown cells, a valuable skill for data science and programming projects.\n",
      "metadata": {}
    },
    {
      "cell_type": "markdown",
      "source": "## Data Science Languages\nSome of the popular languages that Data Scientists use are:\n1. **Python**: Widely used for data analysis, machine learning, and scientific computing.\n2. **R**: Popular for statistical analysis, data visualization, and data mining.\n3. **SQL**: Essential for database querying and data manipulation.\n4. **Julia**: Known for high-performance numerical and scientific computing.\n5. **SAS**: Commonly used for advanced analytics and business intelligence.\n6. **Java**: Applied in big data processing and enterprise-level applications.\n7. **Scala**: Often used with Apache Spark for distributed data processing.\n8. **Haskell**: Occasionally used for specialized data analysis tasks.\n9. **Matlab**: Common in academia for mathematical modeling and simulations.\n10. **JavaScript**: Useful for web-based data visualizations and interactive dashboards.\n",
      "metadata": {}
    },
    {
      "cell_type": "markdown",
      "source": "## Data Science Libraries\nSome of the commonly used libraries used by Data Scientists include:\n1. **NumPy**: Core library for numerical computing.\n2. **Pandas**: Data manipulation and analysis with data frames.\n3. **Matplotlib**: Creating various data visualizations.\n4. **Scikit-Learn**: Machine learning algorithms and tools.\n5. **TensorFlow**: Deep learning framework.\n6. **PyTorch**: Dynamic deep learning framework.\n7. **Seaborn**: Simplified data visualization.\n8. **Statsmodels**: Statistical modeling and analysis.\n9. **NLTK**: Natural language processing toolkit.\n10. **OpenCV**: Computer vision for image analysis.\n\n",
      "metadata": {}
    },
    {
      "cell_type": "markdown",
      "source": "## Data Science Tools\n\n| Tool                 | Description                                              | Website                                  |\n|----------------------|----------------------------------------------------------|------------------------------------------|\n| Jupyter Notebook     | An interactive environment for data analysis and coding.   | [Jupyter](https://jupyter.org/)         |\n| RStudio              | An integrated development environment for R programming.    | [RStudio](https://rstudio.com/)         |\n| Visual Studio Code   | A versatile code editor with data science extensions.  | [VS Code](https://code.visualstudio.com/) |\n\n\nThese tools cover a range of tasks in the data science workflow, from data analysis and visualization to machine learning and collaboration. You can explore their official websites for more details.\n",
      "metadata": {}
    },
    {
      "cell_type": "markdown",
      "source": "### Below are a few examples of evaluating arithmetic expressions in Python\n",
      "metadata": {}
    },
    {
      "cell_type": "code",
      "source": "# This a simple arithmetic expression to mutiply then add integers\n(3*4)+5\n",
      "metadata": {
        "trusted": true
      },
      "execution_count": 10,
      "outputs": [
        {
          "execution_count": 10,
          "output_type": "execute_result",
          "data": {
            "text/plain": "17"
          },
          "metadata": {}
        }
      ]
    },
    {
      "cell_type": "code",
      "source": "# This will convert 200 minutes to hours by diving by 60\n200 / 60",
      "metadata": {
        "trusted": true
      },
      "execution_count": 14,
      "outputs": [
        {
          "execution_count": 14,
          "output_type": "execute_result",
          "data": {
            "text/plain": "3.3333333333333335"
          },
          "metadata": {}
        }
      ]
    },
    {
      "cell_type": "markdown",
      "source": "## Author\n\n- **Author's Name**: Juan Manuel Marin Dominguez\n",
      "metadata": {}
    }
  ]
}